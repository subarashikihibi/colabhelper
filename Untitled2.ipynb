{
  "cells": [
    {
      "cell_type": "code",
      "source": [
        "abcde"
      ],
      "metadata": {
        "id": "whONxeBfNoka"
      },
      "id": "whONxeBfNoka",
      "execution_count": null,
      "outputs": []
    }
  ],
  "metadata": {
    "colab": {
      "provenance": []
    }
  },
  "nbformat": 4,
  "nbformat_minor": 5
}